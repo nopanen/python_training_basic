{
 "cells": [
  {
   "cell_type": "markdown",
   "metadata": {
    "collapsed": true
   },
   "source": [
    "### Function exercises"
   ]
  },
  {
   "cell_type": "code",
   "execution_count": null,
   "metadata": {},
   "outputs": [],
   "source": [
    "def sleep_in(weekday, vacation):\n",
    "    return not weekday or vacation\n"
   ]
  },
  {
   "cell_type": "code",
   "execution_count": null,
   "metadata": {},
   "outputs": [],
   "source": [
    "def monkey_trouble(a_smile, b_smile):\n",
    "  return a_smile == b_smile\n"
   ]
  },
  {
   "cell_type": "code",
   "execution_count": null,
   "metadata": {},
   "outputs": [],
   "source": [
    "def diff21(n):\n",
    "  diff = abs(n-21)\n",
    "  return 2 * diff if n > 21 else diff\n"
   ]
  },
  {
   "cell_type": "code",
   "execution_count": null,
   "metadata": {},
   "outputs": [],
   "source": [
    "def near_hundred(n):\n",
    "  return abs(100-n) <= 10 or abs(200-n) <= 10\n"
   ]
  },
  {
   "cell_type": "code",
   "execution_count": null,
   "metadata": {},
   "outputs": [],
   "source": [
    "def sum_double(a, b):\n",
    "  return (a+b)*2 if a == b else a+b"
   ]
  },
  {
   "cell_type": "code",
   "execution_count": null,
   "metadata": {},
   "outputs": [],
   "source": [
    "def parrot_trouble(talking, hour):\n",
    "  return talking and (hour < 7 or hour > 20)\n"
   ]
  },
  {
   "cell_type": "code",
   "execution_count": null,
   "metadata": {},
   "outputs": [],
   "source": [
    "def makes10(a, b):\n",
    "  return a+b == 10 or a == 10 or b == 10\n"
   ]
  },
  {
   "cell_type": "code",
   "execution_count": null,
   "metadata": {},
   "outputs": [],
   "source": [
    "def pos_neg(a, b, negative):\n",
    "  if negative:\n",
    "    return a < 0 and b < 0\n",
    "  return (a > 0 > b) or (b > 0 > a)\n"
   ]
  },
  {
   "cell_type": "code",
   "execution_count": null,
   "metadata": {},
   "outputs": [],
   "source": [
    "def not_string(str):\n",
    "  return str if str.startswith(\"not\") else \"not %s\" % str"
   ]
  },
  {
   "cell_type": "code",
   "execution_count": null,
   "metadata": {},
   "outputs": [],
   "source": [
    "def front_back(str):\n",
    "  if len(str) <= 1:\n",
    "    return str\n",
    "  return str[-1] + str[1:-1] + str[0]\n"
   ]
  },
  {
   "cell_type": "code",
   "execution_count": null,
   "metadata": {},
   "outputs": [],
   "source": [
    "def front3(str):\n",
    "  return str[:3]*3\n"
   ]
  },
  {
   "cell_type": "markdown",
   "metadata": {},
   "source": [
    "### Logic-1"
   ]
  },
  {
   "cell_type": "code",
   "execution_count": null,
   "metadata": {},
   "outputs": [],
   "source": [
    "def cigar_party(cigars, is_weekend):\n",
    "  if is_weekend:\n",
    "    return cigars >= 40\n",
    "  return 60 >= cigars >= 40\n"
   ]
  },
  {
   "cell_type": "code",
   "execution_count": 2,
   "metadata": {},
   "outputs": [],
   "source": [
    "def date_fashion(you, date):\n",
    "  if you <= 2 or date <= 2:\n",
    "    return 0\n",
    "  elif you >= 8 or date >= 8: \n",
    "    return 2\n",
    "  else:\n",
    "    return 1\n"
   ]
  },
  {
   "cell_type": "code",
   "execution_count": null,
   "metadata": {},
   "outputs": [],
   "source": [
    "def squirrel_play(temp, is_summer):\n",
    "  upperlimit = 100 if is_summer else 90\n",
    "  return upperlimit >= temp >= 60"
   ]
  },
  {
   "cell_type": "code",
   "execution_count": null,
   "metadata": {},
   "outputs": [],
   "source": [
    "def caught_speeding(speed, is_birthday):\n",
    "  bdplustolimit = 5 if is_birthday else 0\n",
    "  \n",
    "  if speed > 80+bdplustolimit:\n",
    "    return 2\n",
    "  elif 80+bdplustolimit >= speed >= 61+bdplustolimit:\n",
    "    return 1\n",
    "  else:\n",
    "    return 0"
   ]
  },
  {
   "cell_type": "code",
   "execution_count": null,
   "metadata": {},
   "outputs": [],
   "source": [
    "def sorta_sum(a, b):\n",
    "  if 19 >= a+b >= 10:\n",
    "    return 20\n",
    "  else:\n",
    "    return a+b\n"
   ]
  },
  {
   "cell_type": "code",
   "execution_count": null,
   "metadata": {},
   "outputs": [],
   "source": [
    "def alarm_clock(day, vacation):\n",
    "  weekday_alarm = \"10:00\" if vacation else \"7:00\"\n",
    "  weekend_alarm = \"off\" if vacation else \"10:00\"\n",
    "  if day in range(1, 6):\n",
    "    return weekday_alarm\n",
    "  return weekend_alarm"
   ]
  }
 ],
 "metadata": {
  "kernelspec": {
   "display_name": "Python 2",
   "language": "python",
   "name": "python2"
  },
  "language_info": {
   "codemirror_mode": {
    "name": "ipython",
    "version": 2
   },
   "file_extension": ".py",
   "mimetype": "text/x-python",
   "name": "python",
   "nbconvert_exporter": "python",
   "pygments_lexer": "ipython2",
   "version": "2.7.14"
  }
 },
 "nbformat": 4,
 "nbformat_minor": 1
}
